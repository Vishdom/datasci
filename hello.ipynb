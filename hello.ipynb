{
 "cells": [
  {
   "cell_type": "markdown",
   "metadata": {},
   "source": ["# Hello‑world notebook"]
  },
  {
   "cell_type": "code",
   "execution_count": null,
   "metadata": {},
   "outputs": [],
   "source": ["print('👋 Hello, data science!')"]
  }
 ],
 "metadata": {"kernelspec": {"name": "python3", "language": "python", "display_name": "Python 3"}},
 "nbformat": 4,
 "nbformat_minor": 5
}
